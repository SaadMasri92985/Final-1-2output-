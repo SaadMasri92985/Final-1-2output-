{
 "cells": [
  {
   "cell_type": "code",
   "execution_count": 2,
   "metadata": {},
   "outputs": [
    {
     "name": "stderr",
     "output_type": "stream",
     "text": [
      "Using TensorFlow backend.\n"
     ]
    }
   ],
   "source": [
    "#Kütüphaneler çağırmak\n",
    "import numpy as np\n",
    "import pandas as pd\n",
    "import seaborn as sns\n",
    "from sklearn.model_selection import train_test_split\n",
    "from sklearn.neural_network import MLPClassifier\n",
    "from sklearn.metrics import confusion_matrix, classification_report, accuracy_score\n",
    "from sklearn.model_selection import KFold\n",
    "from sklearn.model_selection import GridSearchCV\n",
    "import sklearn.metrics as metrics\n",
    "import matplotlib.pyplot as plt\n",
    "import keras\n",
    "from keras.models import Sequential\n",
    "from keras.layers import Dense, Activation, Dropout, Flatten, Conv2D,MaxPool2D,BatchNormalization"
   ]
  },
  {
   "cell_type": "code",
   "execution_count": 61,
   "metadata": {},
   "outputs": [
    {
     "name": "stdout",
     "output_type": "stream",
     "text": [
      "<class 'pandas.core.frame.DataFrame'>\n",
      "RangeIndex: 3309 entries, 0 to 3308\n",
      "Data columns (total 11 columns):\n",
      " #   Column        Non-Null Count  Dtype  \n",
      "---  ------        --------------  -----  \n",
      " 0   HAEMATOCRIT   3309 non-null   float64\n",
      " 1   HAEMOGLOBINS  3309 non-null   float64\n",
      " 2   ERYTHROCYTE   3309 non-null   float64\n",
      " 3   LEUCOCYTE     3309 non-null   float64\n",
      " 4   THROMBOCYTE   3309 non-null   int64  \n",
      " 5   MCH           3309 non-null   float64\n",
      " 6   MCHC          3309 non-null   float64\n",
      " 7   MCV           3309 non-null   float64\n",
      " 8   AGE           3309 non-null   int64  \n",
      " 9   SEX           3309 non-null   int64  \n",
      " 10  SOURCE        3309 non-null   int64  \n",
      "dtypes: float64(7), int64(4)\n",
      "memory usage: 284.5 KB\n",
      "None\n"
     ]
    }
   ],
   "source": [
    "#Veri seti okumak\n",
    "df=pd.read_csv(\"Treatment.csv\")\n",
    "\n",
    "print(df.info())\n",
    "df.SEX = [1 if each == \"M\" else 0 for each in df.SEX]\n",
    "\n",
    "#Define X & Y\n",
    "y=df.SOURCE.values\n",
    "x_data=df.drop([\"SOURCE\"],axis=1)"
   ]
  },
  {
   "cell_type": "code",
   "execution_count": 62,
   "metadata": {},
   "outputs": [],
   "source": [
    "#Normalzasiyon\n",
    "x=(x_data-np.min(x_data))/(np.max(x_data)-np.min(x_data))\n",
    "\n",
    "#Split test & train\n",
    "x_train, x_test, y_train, y_test=train_test_split(x,y,test_size=0.2,random_state=1)\n"
   ]
  },
  {
   "cell_type": "code",
   "execution_count": 63,
   "metadata": {},
   "outputs": [
    {
     "name": "stdout",
     "output_type": "stream",
     "text": [
      "mlpc score: 0.7537764350453172\n"
     ]
    },
    {
     "name": "stderr",
     "output_type": "stream",
     "text": [
      "C:\\Users\\saamm\\anaconda3\\lib\\site-packages\\sklearn\\neural_network\\_multilayer_perceptron.py:582: ConvergenceWarning: Stochastic Optimizer: Maximum iterations (200) reached and the optimization hasn't converged yet.\n",
      "  warnings.warn(\n"
     ]
    }
   ],
   "source": [
    "#MLPC score hesaplamak\n",
    "mlpc=MLPClassifier(random_state=1)\n",
    "mlpc.fit(x_train,y_train)\n",
    "print(\"mlpc score:\",mlpc.score(x_test,y_test)) "
   ]
  },
  {
   "cell_type": "code",
   "execution_count": 64,
   "metadata": {},
   "outputs": [
    {
     "name": "stdout",
     "output_type": "stream",
     "text": [
      "mlpc_2 score: 0.7734138972809668\n"
     ]
    },
    {
     "name": "stderr",
     "output_type": "stream",
     "text": [
      "C:\\Users\\saamm\\anaconda3\\lib\\site-packages\\sklearn\\neural_network\\_multilayer_perceptron.py:471: ConvergenceWarning: lbfgs failed to converge (status=1):\n",
      "STOP: TOTAL NO. of ITERATIONS REACHED LIMIT.\n",
      "\n",
      "Increase the number of iterations (max_iter) or scale the data as shown in:\n",
      "    https://scikit-learn.org/stable/modules/preprocessing.html\n",
      "  self.n_iter_ = _check_optimize_result(\"lbfgs\", opt_res, self.max_iter)\n"
     ]
    }
   ],
   "source": [
    "#MLPC yi daha iyi sonuç almak için farklı parametreler denemek \n",
    "mlpc_2=MLPClassifier(random_state=1,solver=\"lbfgs\", activation=\"relu\")\n",
    "mlpc_2.fit(x_train,y_train)\n",
    "print(\"mlpc_2 score:\",mlpc_2.score(x_test,y_test))"
   ]
  },
  {
   "cell_type": "code",
   "execution_count": 65,
   "metadata": {},
   "outputs": [
    {
     "name": "stderr",
     "output_type": "stream",
     "text": [
      "C:\\Users\\saamm\\anaconda3\\lib\\site-packages\\sklearn\\model_selection\\_split.py:293: FutureWarning: Setting a random_state has no effect since shuffle is False. This will raise an error in 0.24. You should leave random_state to its default (None), or set shuffle=True.\n",
      "  warnings.warn(\n",
      "C:\\Users\\saamm\\anaconda3\\lib\\site-packages\\sklearn\\neural_network\\_multilayer_perceptron.py:471: ConvergenceWarning: lbfgs failed to converge (status=1):\n",
      "STOP: TOTAL NO. of ITERATIONS REACHED LIMIT.\n",
      "\n",
      "Increase the number of iterations (max_iter) or scale the data as shown in:\n",
      "    https://scikit-learn.org/stable/modules/preprocessing.html\n",
      "  self.n_iter_ = _check_optimize_result(\"lbfgs\", opt_res, self.max_iter)\n"
     ]
    },
    {
     "name": "stdout",
     "output_type": "stream",
     "text": [
      "0.7129909365558912\n"
     ]
    },
    {
     "name": "stderr",
     "output_type": "stream",
     "text": [
      "C:\\Users\\saamm\\anaconda3\\lib\\site-packages\\sklearn\\neural_network\\_multilayer_perceptron.py:471: ConvergenceWarning: lbfgs failed to converge (status=1):\n",
      "STOP: TOTAL NO. of ITERATIONS REACHED LIMIT.\n",
      "\n",
      "Increase the number of iterations (max_iter) or scale the data as shown in:\n",
      "    https://scikit-learn.org/stable/modules/preprocessing.html\n",
      "  self.n_iter_ = _check_optimize_result(\"lbfgs\", opt_res, self.max_iter)\n"
     ]
    },
    {
     "name": "stdout",
     "output_type": "stream",
     "text": [
      "0.7341389728096677\n"
     ]
    },
    {
     "name": "stderr",
     "output_type": "stream",
     "text": [
      "C:\\Users\\saamm\\anaconda3\\lib\\site-packages\\sklearn\\neural_network\\_multilayer_perceptron.py:471: ConvergenceWarning: lbfgs failed to converge (status=1):\n",
      "STOP: TOTAL NO. of ITERATIONS REACHED LIMIT.\n",
      "\n",
      "Increase the number of iterations (max_iter) or scale the data as shown in:\n",
      "    https://scikit-learn.org/stable/modules/preprocessing.html\n",
      "  self.n_iter_ = _check_optimize_result(\"lbfgs\", opt_res, self.max_iter)\n"
     ]
    },
    {
     "name": "stdout",
     "output_type": "stream",
     "text": [
      "0.7794561933534743\n"
     ]
    },
    {
     "name": "stderr",
     "output_type": "stream",
     "text": [
      "C:\\Users\\saamm\\anaconda3\\lib\\site-packages\\sklearn\\neural_network\\_multilayer_perceptron.py:471: ConvergenceWarning: lbfgs failed to converge (status=1):\n",
      "STOP: TOTAL NO. of ITERATIONS REACHED LIMIT.\n",
      "\n",
      "Increase the number of iterations (max_iter) or scale the data as shown in:\n",
      "    https://scikit-learn.org/stable/modules/preprocessing.html\n",
      "  self.n_iter_ = _check_optimize_result(\"lbfgs\", opt_res, self.max_iter)\n"
     ]
    },
    {
     "name": "stdout",
     "output_type": "stream",
     "text": [
      "0.7311178247734139\n"
     ]
    },
    {
     "name": "stderr",
     "output_type": "stream",
     "text": [
      "C:\\Users\\saamm\\anaconda3\\lib\\site-packages\\sklearn\\neural_network\\_multilayer_perceptron.py:471: ConvergenceWarning: lbfgs failed to converge (status=1):\n",
      "STOP: TOTAL NO. of ITERATIONS REACHED LIMIT.\n",
      "\n",
      "Increase the number of iterations (max_iter) or scale the data as shown in:\n",
      "    https://scikit-learn.org/stable/modules/preprocessing.html\n",
      "  self.n_iter_ = _check_optimize_result(\"lbfgs\", opt_res, self.max_iter)\n"
     ]
    },
    {
     "name": "stdout",
     "output_type": "stream",
     "text": [
      "0.7280966767371602\n"
     ]
    },
    {
     "name": "stderr",
     "output_type": "stream",
     "text": [
      "C:\\Users\\saamm\\anaconda3\\lib\\site-packages\\sklearn\\neural_network\\_multilayer_perceptron.py:471: ConvergenceWarning: lbfgs failed to converge (status=1):\n",
      "STOP: TOTAL NO. of ITERATIONS REACHED LIMIT.\n",
      "\n",
      "Increase the number of iterations (max_iter) or scale the data as shown in:\n",
      "    https://scikit-learn.org/stable/modules/preprocessing.html\n",
      "  self.n_iter_ = _check_optimize_result(\"lbfgs\", opt_res, self.max_iter)\n"
     ]
    },
    {
     "name": "stdout",
     "output_type": "stream",
     "text": [
      "0.7311178247734139\n"
     ]
    },
    {
     "name": "stderr",
     "output_type": "stream",
     "text": [
      "C:\\Users\\saamm\\anaconda3\\lib\\site-packages\\sklearn\\neural_network\\_multilayer_perceptron.py:471: ConvergenceWarning: lbfgs failed to converge (status=1):\n",
      "STOP: TOTAL NO. of ITERATIONS REACHED LIMIT.\n",
      "\n",
      "Increase the number of iterations (max_iter) or scale the data as shown in:\n",
      "    https://scikit-learn.org/stable/modules/preprocessing.html\n",
      "  self.n_iter_ = _check_optimize_result(\"lbfgs\", opt_res, self.max_iter)\n"
     ]
    },
    {
     "name": "stdout",
     "output_type": "stream",
     "text": [
      "0.7039274924471299\n"
     ]
    },
    {
     "name": "stderr",
     "output_type": "stream",
     "text": [
      "C:\\Users\\saamm\\anaconda3\\lib\\site-packages\\sklearn\\neural_network\\_multilayer_perceptron.py:471: ConvergenceWarning: lbfgs failed to converge (status=1):\n",
      "STOP: TOTAL NO. of ITERATIONS REACHED LIMIT.\n",
      "\n",
      "Increase the number of iterations (max_iter) or scale the data as shown in:\n",
      "    https://scikit-learn.org/stable/modules/preprocessing.html\n",
      "  self.n_iter_ = _check_optimize_result(\"lbfgs\", opt_res, self.max_iter)\n"
     ]
    },
    {
     "name": "stdout",
     "output_type": "stream",
     "text": [
      "0.7492447129909365\n"
     ]
    },
    {
     "name": "stderr",
     "output_type": "stream",
     "text": [
      "C:\\Users\\saamm\\anaconda3\\lib\\site-packages\\sklearn\\neural_network\\_multilayer_perceptron.py:471: ConvergenceWarning: lbfgs failed to converge (status=1):\n",
      "STOP: TOTAL NO. of ITERATIONS REACHED LIMIT.\n",
      "\n",
      "Increase the number of iterations (max_iter) or scale the data as shown in:\n",
      "    https://scikit-learn.org/stable/modules/preprocessing.html\n",
      "  self.n_iter_ = _check_optimize_result(\"lbfgs\", opt_res, self.max_iter)\n"
     ]
    },
    {
     "name": "stdout",
     "output_type": "stream",
     "text": [
      "0.7915407854984894\n",
      "0.7151515151515152\n",
      "ortalama score: 0.7376782935091092\n"
     ]
    },
    {
     "name": "stderr",
     "output_type": "stream",
     "text": [
      "C:\\Users\\saamm\\anaconda3\\lib\\site-packages\\sklearn\\neural_network\\_multilayer_perceptron.py:471: ConvergenceWarning: lbfgs failed to converge (status=1):\n",
      "STOP: TOTAL NO. of ITERATIONS REACHED LIMIT.\n",
      "\n",
      "Increase the number of iterations (max_iter) or scale the data as shown in:\n",
      "    https://scikit-learn.org/stable/modules/preprocessing.html\n",
      "  self.n_iter_ = _check_optimize_result(\"lbfgs\", opt_res, self.max_iter)\n"
     ]
    }
   ],
   "source": [
    "# Modeli geliştirmek\n",
    "# k_fold\n",
    "\n",
    "#Veri seti okumak\n",
    "df=pd.read_csv(\"Treatment.csv\")\n",
    "df.SEX = [1 if each == \"M\" else 0 for each in df.SEX]\n",
    "\n",
    "#Define X & Y\n",
    "y=df.SOURCE.values\n",
    "x_data=df.drop([\"SOURCE\"],axis=1).values\n",
    "\n",
    "#Normalzasiyon\n",
    "x=(x_data-np.min(x_data))/(np.max(x_data)-np.min(x_data))\n",
    "\n",
    "scores=[]\n",
    "\n",
    "kf=KFold(n_splits=10,random_state=1)\n",
    "mlpc=MLPClassifier(solver=\"lbfgs\",activation=\"relu\")\n",
    "\n",
    "for train_indexler,test_indexler in kf.split(x):\n",
    "    mlpc.fit(x[train_indexler],y[train_indexler])\n",
    "    score=mlpc.score(x[test_indexler],y[test_indexler])\n",
    "    scores.append(score)\n",
    "    print(score)\n",
    "    \n",
    "print(\"ortalama score:\",np.mean(scores))"
   ]
  },
  {
   "cell_type": "code",
   "execution_count": 66,
   "metadata": {},
   "outputs": [
    {
     "name": "stdout",
     "output_type": "stream",
     "text": [
      "Fitting 10 folds for each of 96 candidates, totalling 960 fits\n"
     ]
    },
    {
     "name": "stderr",
     "output_type": "stream",
     "text": [
      "[Parallel(n_jobs=-1)]: Using backend LokyBackend with 8 concurrent workers.\n",
      "[Parallel(n_jobs=-1)]: Done  25 tasks      | elapsed:    9.0s\n",
      "[Parallel(n_jobs=-1)]: Done 146 tasks      | elapsed:  1.9min\n",
      "[Parallel(n_jobs=-1)]: Done 349 tasks      | elapsed:  5.4min\n",
      "[Parallel(n_jobs=-1)]: Done 632 tasks      | elapsed: 10.7min\n",
      "[Parallel(n_jobs=-1)]: Done 960 out of 960 | elapsed: 19.8min finished\n",
      "C:\\Users\\saamm\\anaconda3\\lib\\site-packages\\sklearn\\neural_network\\_multilayer_perceptron.py:582: ConvergenceWarning: Stochastic Optimizer: Maximum iterations (200) reached and the optimization hasn't converged yet.\n",
      "  warnings.warn(\n"
     ]
    }
   ],
   "source": [
    "#Grid search\n",
    "\n",
    "#Veri seti okumak\n",
    "df=pd.read_csv(\"Treatment.csv\")\n",
    "df.SEX = [1 if each == \"M\" else 0 for each in df.SEX]\n",
    "\n",
    "#Define X & Y\n",
    "y=df.SOURCE.values\n",
    "x_data=df.drop([\"SOURCE\"],axis=1)\n",
    "\n",
    "#Normalzasiyon\n",
    "x=(x_data-np.min(x_data))/(np.max(x_data)-np.min(x_data)).values\n",
    "\n",
    "#Split test & train\n",
    "x_train, x_test, y_train, y_test=train_test_split(x,y,test_size=0.2,random_state=1)\n",
    "\n",
    "\n",
    "#model oluşturma\n",
    "mlpc_params={\"alpha\":[0.1,0.01,0.001,0.0001],\n",
    "            \"hidden_layer_sizes\":[(10,10),(3,3,3),(100,100),(3,5,3)],\n",
    "            \"solver\":[\"lbfgs\",\"adam\",\"sgd\"],\n",
    "            \"activation\":[\"logistic\",\"relu\"]}\n",
    "\n",
    "mlpc=MLPClassifier(random_state=1)\n",
    "\n",
    "mlpc_cv_model=GridSearchCV(mlpc,mlpc_params,cv=10,n_jobs=-1,verbose=2).fit(x_train,y_train)"
   ]
  },
  {
   "cell_type": "code",
   "execution_count": 67,
   "metadata": {},
   "outputs": [
    {
     "name": "stdout",
     "output_type": "stream",
     "text": [
      "{'activation': 'relu', 'alpha': 0.001, 'hidden_layer_sizes': (100, 100), 'solver': 'adam'}\n"
     ]
    }
   ],
   "source": [
    "print(mlpc_cv_model.best_params_)"
   ]
  },
  {
   "cell_type": "code",
   "execution_count": 76,
   "metadata": {},
   "outputs": [
    {
     "name": "stdout",
     "output_type": "stream",
     "text": [
      "score: 0.7643504531722054\n"
     ]
    }
   ],
   "source": [
    "mlpc_tuned=MLPClassifier(random_state=1,activation=\"relu\",alpha=0.001,hidden_layer_sizes=(100,100),solver=\"adam\",max_iter=500).fit(x_train,y_train)\n",
    "print(\"score:\",mlpc_tuned.score(x_test,y_test))"
   ]
  },
  {
   "cell_type": "code",
   "execution_count": 42,
   "metadata": {},
   "outputs": [],
   "source": [
    "# Modeli değerlendirmek\n",
    "\n",
    "#Veri seti okumak\n",
    "df=pd.read_csv(\"Treatment.csv\")\n",
    "df.SEX = [1 if each == \"M\" else 0 for each in df.SEX]\n",
    "\n",
    "#Define X & Y\n",
    "y=df.SOURCE.values\n",
    "x_data=df.drop([\"SOURCE\"],axis=1)\n",
    "\n",
    "#Normalzasiyon\n",
    "x=(x_data-np.min(x_data))/(np.max(x_data)-np.min(x_data)).values\n",
    "\n",
    "#Split test & train\n",
    "x_train, x_test, y_train, y_test=train_test_split(x,y,test_size=0.2,random_state=1) \n",
    "\n",
    "mlpc=MLPClassifier(random_state=1,activation=\"relu\",alpha=0.001,hidden_layer_sizes=(100,100),solver=\"adam\",max_iter=500).fit(x_train,y_train)\n",
    "\n"
   ]
  },
  {
   "cell_type": "code",
   "execution_count": 44,
   "metadata": {},
   "outputs": [
    {
     "name": "stdout",
     "output_type": "stream",
     "text": [
      "[[361  58]\n",
      " [ 98 145]]\n",
      "f1 score: 0.6502242152466368\n"
     ]
    }
   ],
   "source": [
    "#prediction the Y\n",
    "y_pred=mlpc.predict(x_test)\n",
    "\n",
    "#confusion_matrix hesaplama\n",
    "cm=metrics.confusion_matrix(y_test,y_pred)\n",
    "print(cm)\n",
    "\n",
    "#f1_score hesaplama\n",
    "f1=metrics.f1_score(y_test,y_pred)\n",
    "print(\"f1 score:\",f1)"
   ]
  },
  {
   "cell_type": "code",
   "execution_count": 96,
   "metadata": {},
   "outputs": [
    {
     "data": {
      "text/plain": [
       "<matplotlib.axes._subplots.AxesSubplot at 0x2c45db00b80>"
      ]
     },
     "execution_count": 96,
     "metadata": {},
     "output_type": "execute_result"
    },
    {
     "data": {
      "image/png": "[encoded data removed]",
      "text/plain": [
       "<Figure size 432x288 with 1 Axes>"
      ]
     },
     "metadata": {
      "needs_background": "light"
     },
     "output_type": "display_data"
    }
   ],
   "source": [
    "#Seaborn ile cm çizdirimi\n",
    "sns.heatmap(cm,cbar=False,annot=True,fmt=\"\")"
   ]
  },
  {
   "cell_type": "code",
   "execution_count": 97,
   "metadata": {},
   "outputs": [
    {
     "data": {
      "text/plain": [
       "<matplotlib.axes._subplots.AxesSubplot at 0x2c45ddfa910>"
      ]
     },
     "execution_count": 97,
     "metadata": {},
     "output_type": "execute_result"
    },
    {
     "data": {
      "image/png": "[encoded data removed]",
      "text/plain": [
       "<Figure size 432x288 with 1 Axes>"
      ]
     },
     "metadata": {
      "needs_background": "light"
     },
     "output_type": "display_data"
    }
   ],
   "source": [
    "#çizim üzerine değişiklikler\n",
    "sns.heatmap(cm/cm.sum(axis=1), annot=True, cbar=False, cmap=\"Blues\",fmt=\".2%\")"
   ]
  },
  {
   "cell_type": "code",
   "execution_count": 90,
   "metadata": {},
   "outputs": [],
   "source": [
    "#roc and auc\n",
    "\n",
    "#Define_probs\n",
    "probs=mlpc.predict_proba(x_test)\n",
    "probs=probs[:,1]\n",
    "\n",
    "#auc_values hesaplama için fpr&tpr bulma\n",
    "fpr,tpr,threshold=metrics.roc_curve(y_test,probs)\n",
    "auc_value=metrics.auc(fpr,tpr)"
   ]
  },
  {
   "cell_type": "code",
   "execution_count": 91,
   "metadata": {},
   "outputs": [
    {
     "data": {
      "image/png": "[encoded data removed]",
      "text/plain": [
       "<Figure size 432x288 with 1 Axes>"
      ]
     },
     "metadata": {
      "needs_background": "light"
     },
     "output_type": "display_data"
    }
   ],
   "source": [
    "#eğrileri çizmek\n",
    "plt.title(\"ROC\")\n",
    "plt.plot(fpr,tpr,label=\"AUC: \"+str(round(auc_value,2)),color=\"red\")\n",
    "plt.plot([0,1],[0,1],color=\"blue\",lw=2,linestyle=\"--\")\n",
    "plt.legend(loc=\"lower right\")\n",
    "plt.ylabel(\"TPR\")\n",
    "plt.xlabel(\"FPR\")\n",
    "plt.show()"
   ]
  },
  {
   "cell_type": "code",
   "execution_count": 3,
   "metadata": {},
   "outputs": [],
   "source": [
    "#Keras  \n",
    "#Veri seti okumak\n",
    "df=pd.read_csv(\"Treatment.csv\")\n",
    "df.SEX = [1 if each == \"M\" else 0 for each in df.SEX]\n",
    "\n",
    "#Define X & Y\n",
    "y=df.SOURCE.values\n",
    "x_data=df.drop([\"SOURCE\"],axis=1)\n",
    "\n",
    "from sklearn.model_selection import train_test_split\n",
    "x_train, x_test,y_train,y_test=train_test_split(x_data,y,test_size=0.2,random_state=1)"
   ]
  },
  {
   "cell_type": "code",
   "execution_count": 4,
   "metadata": {},
   "outputs": [],
   "source": [
    "#Keras modeli olusturma\n",
    "\n",
    "model=Sequential()\n",
    "model.add(Dense(12, input_dim=10, activation='relu'))\n",
    "model.add(BatchNormalization())\n",
    "\n",
    "model.add(Dense(8, activation='relu'))\n",
    "model.add(BatchNormalization())\n",
    "\n",
    "model.add(Dense(1, activation='relu'))\n",
    "model.add(BatchNormalization())\n"
   ]
  },
  {
   "cell_type": "code",
   "execution_count": 5,
   "metadata": {},
   "outputs": [],
   "source": [
    "#modeli paketleme\n",
    "\n",
    "model.compile(loss='binary_crossentropy', optimizer='adam', metrics=['accuracy'])"
   ]
  },
  {
   "cell_type": "code",
   "execution_count": 6,
   "metadata": {},
   "outputs": [
    {
     "name": "stdout",
     "output_type": "stream",
     "text": [
      "Train on 2647 samples, validate on 662 samples\n",
      "Epoch 1/50\n",
      "2647/2647 [==============================] - 1s 515us/step - loss: 6.8208 - accuracy: 0.1711 - val_loss: 5.6529 - val_accuracy: 0.6299\n",
      "Epoch 2/50\n",
      "2647/2647 [==============================] - 1s 191us/step - loss: 6.3240 - accuracy: 0.1904 - val_loss: 4.8531 - val_accuracy: 0.1722\n",
      "Epoch 3/50\n",
      "2647/2647 [==============================] - 1s 190us/step - loss: 5.5094 - accuracy: 0.2406 - val_loss: 4.7092 - val_accuracy: 0.2477\n",
      "Epoch 4/50\n",
      "2647/2647 [==============================] - 1s 189us/step - loss: 5.1829 - accuracy: 0.3026 - val_loss: 4.5948 - val_accuracy: 0.3127\n",
      "Epoch 5/50\n",
      "2647/2647 [==============================] - 1s 197us/step - loss: 4.8155 - accuracy: 0.2958 - val_loss: 4.4184 - val_accuracy: 0.2583\n",
      "Epoch 6/50\n",
      "2647/2647 [==============================] - 1s 193us/step - loss: 4.5811 - accuracy: 0.2830 - val_loss: 3.6367 - val_accuracy: 0.3852\n",
      "Epoch 7/50\n",
      "2647/2647 [==============================] - 1s 190us/step - loss: 4.0887 - accuracy: 0.2750 - val_loss: 2.6699 - val_accuracy: 0.4637\n",
      "Epoch 8/50\n",
      "2647/2647 [==============================] - 1s 189us/step - loss: 3.3265 - accuracy: 0.3362 - val_loss: 2.5645 - val_accuracy: 0.4879\n",
      "Epoch 9/50\n",
      "2647/2647 [==============================] - 1s 192us/step - loss: 3.5521 - accuracy: 0.3748 - val_loss: 3.6531 - val_accuracy: 0.3686\n",
      "Epoch 10/50\n",
      "2647/2647 [==============================] - 1s 207us/step - loss: 2.8446 - accuracy: 0.4095 - val_loss: 2.7054 - val_accuracy: 0.4139\n",
      "Epoch 11/50\n",
      "2647/2647 [==============================] - 1s 208us/step - loss: 2.6602 - accuracy: 0.4311 - val_loss: 2.0631 - val_accuracy: 0.4834\n",
      "Epoch 12/50\n",
      "2647/2647 [==============================] - 1s 206us/step - loss: 2.6893 - accuracy: 0.4454 - val_loss: 2.0791 - val_accuracy: 0.4819\n",
      "Epoch 13/50\n",
      "2647/2647 [==============================] - 1s 199us/step - loss: 2.5695 - accuracy: 0.4447 - val_loss: 2.0558 - val_accuracy: 0.4970\n",
      "Epoch 14/50\n",
      "2647/2647 [==============================] - 1s 191us/step - loss: 2.3551 - accuracy: 0.4522 - val_loss: 1.9771 - val_accuracy: 0.5121\n",
      "Epoch 15/50\n",
      "2647/2647 [==============================] - 1s 193us/step - loss: 2.3423 - accuracy: 0.4681 - val_loss: 1.8083 - val_accuracy: 0.5106\n",
      "Epoch 16/50\n",
      "2647/2647 [==============================] - 1s 199us/step - loss: 2.2524 - accuracy: 0.4764 - val_loss: 1.8644 - val_accuracy: 0.4970\n",
      "Epoch 17/50\n",
      "2647/2647 [==============================] - 1s 206us/step - loss: 2.2173 - accuracy: 0.4730 - val_loss: 1.8452 - val_accuracy: 0.5196\n",
      "Epoch 18/50\n",
      "2647/2647 [==============================] - 1s 211us/step - loss: 2.1153 - accuracy: 0.4658 - val_loss: 1.7045 - val_accuracy: 0.5121\n",
      "Epoch 19/50\n",
      "2647/2647 [==============================] - 1s 193us/step - loss: 2.0366 - accuracy: 0.4964 - val_loss: 1.7316 - val_accuracy: 0.5196\n",
      "Epoch 20/50\n",
      "2647/2647 [==============================] - 1s 190us/step - loss: 2.0045 - accuracy: 0.5002 - val_loss: 1.5478 - val_accuracy: 0.5393\n",
      "Epoch 21/50\n",
      "2647/2647 [==============================] - 1s 202us/step - loss: 1.9116 - accuracy: 0.5100 - val_loss: 1.5768 - val_accuracy: 0.5393\n",
      "Epoch 22/50\n",
      "2647/2647 [==============================] - 1s 199us/step - loss: 1.8017 - accuracy: 0.5108 - val_loss: 1.6580 - val_accuracy: 0.5363\n",
      "Epoch 23/50\n",
      "2647/2647 [==============================] - 1s 210us/step - loss: 1.8290 - accuracy: 0.5115 - val_loss: 1.7799 - val_accuracy: 0.4789\n",
      "Epoch 24/50\n",
      "2647/2647 [==============================] - 1s 196us/step - loss: 1.8284 - accuracy: 0.5232 - val_loss: 1.5004 - val_accuracy: 0.5393\n",
      "Epoch 25/50\n",
      "2647/2647 [==============================] - 1s 198us/step - loss: 1.6281 - accuracy: 0.5179 - val_loss: 1.3434 - val_accuracy: 0.5982\n",
      "Epoch 26/50\n",
      "2647/2647 [==============================] - 1s 189us/step - loss: 1.6588 - accuracy: 0.5278 - val_loss: 1.3982 - val_accuracy: 0.5423\n",
      "Epoch 27/50\n",
      "2647/2647 [==============================] - 0s 189us/step - loss: 1.5825 - accuracy: 0.5191 - val_loss: 1.3630 - val_accuracy: 0.5876\n",
      "Epoch 28/50\n",
      "2647/2647 [==============================] - 1s 213us/step - loss: 1.5659 - accuracy: 0.5535 - val_loss: 1.3241 - val_accuracy: 0.5921\n",
      "Epoch 29/50\n",
      "2647/2647 [==============================] - 1s 200us/step - loss: 1.6529 - accuracy: 0.5410 - val_loss: 0.7653 - val_accuracy: 0.6148\n",
      "Epoch 30/50\n",
      "2647/2647 [==============================] - 1s 204us/step - loss: 1.5584 - accuracy: 0.5357 - val_loss: 0.8716 - val_accuracy: 0.6586\n",
      "Epoch 31/50\n",
      "2647/2647 [==============================] - 1s 190us/step - loss: 1.4126 - accuracy: 0.5621 - val_loss: 0.9992 - val_accuracy: 0.7069\n",
      "Epoch 32/50\n",
      "2647/2647 [==============================] - 1s 191us/step - loss: 1.3772 - accuracy: 0.6147 - val_loss: 1.0231 - val_accuracy: 0.6556\n",
      "Epoch 33/50\n",
      "2647/2647 [==============================] - 1s 192us/step - loss: 1.3233 - accuracy: 0.6150 - val_loss: 2.2494 - val_accuracy: 0.6813\n",
      "Epoch 34/50\n",
      "2647/2647 [==============================] - 1s 190us/step - loss: 1.2711 - accuracy: 0.5939 - val_loss: 1.1145 - val_accuracy: 0.6148\n",
      "Epoch 35/50\n",
      "2647/2647 [==============================] - 1s 213us/step - loss: 1.1499 - accuracy: 0.6022 - val_loss: 0.9878 - val_accuracy: 0.6495\n",
      "Epoch 36/50\n",
      "2647/2647 [==============================] - 1s 189us/step - loss: 1.1150 - accuracy: 0.6358 - val_loss: 0.9301 - val_accuracy: 0.7054\n",
      "Epoch 37/50\n",
      "2647/2647 [==============================] - 0s 186us/step - loss: 1.0784 - accuracy: 0.6267 - val_loss: 0.8470 - val_accuracy: 0.6858\n",
      "Epoch 38/50\n",
      "2647/2647 [==============================] - 1s 189us/step - loss: 1.1007 - accuracy: 0.6558 - val_loss: 0.9636 - val_accuracy: 0.6934\n",
      "Epoch 39/50\n",
      "2647/2647 [==============================] - 1s 191us/step - loss: 1.1283 - accuracy: 0.6600 - val_loss: 0.9013 - val_accuracy: 0.7069\n",
      "Epoch 40/50\n",
      "2647/2647 [==============================] - 1s 207us/step - loss: 1.0162 - accuracy: 0.6679 - val_loss: 0.7868 - val_accuracy: 0.7160\n",
      "Epoch 41/50\n",
      "2647/2647 [==============================] - 1s 215us/step - loss: 0.9506 - accuracy: 0.6645 - val_loss: 0.7891 - val_accuracy: 0.7221\n",
      "Epoch 42/50\n",
      "2647/2647 [==============================] - 1s 214us/step - loss: 0.9827 - accuracy: 0.6827 - val_loss: 0.7907 - val_accuracy: 0.7221\n",
      "Epoch 43/50\n",
      "2647/2647 [==============================] - 1s 212us/step - loss: 0.9839 - accuracy: 0.6842 - val_loss: 0.7916 - val_accuracy: 0.7190\n",
      "Epoch 44/50\n",
      "2647/2647 [==============================] - 1s 202us/step - loss: 0.9426 - accuracy: 0.6759 - val_loss: 0.8085 - val_accuracy: 0.7236\n",
      "Epoch 45/50\n",
      "2647/2647 [==============================] - 1s 211us/step - loss: 0.9203 - accuracy: 0.6898 - val_loss: 0.9367 - val_accuracy: 0.7372\n",
      "Epoch 46/50\n",
      "2647/2647 [==============================] - 1s 190us/step - loss: 0.8971 - accuracy: 0.6762 - val_loss: 0.7658 - val_accuracy: 0.7221\n",
      "Epoch 47/50\n",
      "2647/2647 [==============================] - 1s 191us/step - loss: 0.9304 - accuracy: 0.6781 - val_loss: 0.7485 - val_accuracy: 0.7221\n",
      "Epoch 48/50\n",
      "2647/2647 [==============================] - 1s 192us/step - loss: 0.8671 - accuracy: 0.6879 - val_loss: 0.7507 - val_accuracy: 0.7175\n",
      "Epoch 49/50\n",
      "2647/2647 [==============================] - 1s 191us/step - loss: 0.8312 - accuracy: 0.6947 - val_loss: 0.7104 - val_accuracy: 0.7190\n",
      "Epoch 50/50\n",
      "2647/2647 [==============================] - 1s 193us/step - loss: 0.8290 - accuracy: 0.6736 - val_loss: 0.8017 - val_accuracy: 0.6390\n"
     ]
    }
   ],
   "source": [
    "egitim=model.fit(x_train,y_train,epochs=50,batch_size=20,validation_data=(x_test,y_test)) "
   ]
  },
  {
   "cell_type": "code",
   "execution_count": 7,
   "metadata": {},
   "outputs": [
    {
     "name": "stdout",
     "output_type": "stream",
     "text": [
      "[[419   0]\n",
      " [243   0]]\n"
     ]
    }
   ],
   "source": [
    "import sklearn.metrics as metrics\n",
    "\n",
    "y_pred=model.predict(x_test)\n",
    "y_pred=np.argmax(y_pred,axis=1)\n",
    "cm=metrics.confusion_matrix(y_test,y_pred)\n",
    "print(cm)"
   ]
  },
  {
   "cell_type": "code",
   "execution_count": 8,
   "metadata": {},
   "outputs": [
    {
     "data": {
      "image/png": "[encoded data removed]",
      "text/plain": [
       "<Figure size 432x288 with 1 Axes>"
      ]
     },
     "metadata": {
      "needs_background": "light"
     },
     "output_type": "display_data"
    }
   ],
   "source": [
    "#bizim modelimizin accuracy eğrileri çizmek\n",
    "\n",
    "plt.plot(egitim.history[\"accuracy\"])\n",
    "plt.plot(egitim.history[\"val_accuracy\"])\n",
    "plt.show()"
   ]
  },
  {
   "cell_type": "code",
   "execution_count": null,
   "metadata": {},
   "outputs": [],
   "source": []
  }
 ],
 "metadata": {
  "kernelspec": {
   "display_name": "Python 3",
   "language": "python",
   "name": "python3"
  },
  "language_info": {
   "codemirror_mode": {
    "name": "ipython",
    "version": 3
   },
   "file_extension": ".py",
   "mimetype": "text/x-python",
   "name": "python",
   "nbconvert_exporter": "python",
   "pygments_lexer": "ipython3",
   "version": "3.8.3"
  }
 },
 "nbformat": 4,
 "nbformat_minor": 4
}
